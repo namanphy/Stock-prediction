{
 "cells": [
  {
   "cell_type": "code",
   "execution_count": 1,
   "metadata": {
    "collapsed": true
   },
   "outputs": [],
   "source": [
    "from datetime import date,datetime\n",
    "from datetime import timedelta\n",
    "\n",
    "def getdate(start,periods):\n",
    "    #start=date(1998,3,23)\n",
    "    #end=date(2018,6,15)\n",
    "    delta = timedelta(days=1)\n",
    "    dates=[]\n",
    "    d = start\n",
    "    count=0\n",
    "    weekend = set([5, 6])\n",
    "    while count <= periods+1:\n",
    "        if d.weekday() not in weekend:\n",
    "            dates.append(d.strftime('%d-%m-%y'))\n",
    "        d += delta\n",
    "        count=count+1\n",
    "    return dates\n",
    "\n",
    "    \n",
    "    start_date = df.iloc[days+buffer][\"Date\"]\n",
    "    #print(type(start_date))\n",
    "    Nstart_date = datetime.strptime(start_date,'%d-%m-%y').date()\n",
    "    #print(Nstart_date)\n",
    "    index = getdate(Nstart_date, periods=periods)\n",
    "    print(index)"
   ]
  },
  {
   "cell_type": "code",
   "execution_count": null,
   "metadata": {
    "collapsed": true
   },
   "outputs": [],
   "source": [
    "start=\n",
    "getdate(start,periods)"
   ]
  }
 ],
 "metadata": {
  "kernelspec": {
   "display_name": "Python 3",
   "language": "python",
   "name": "python3"
  },
  "language_info": {
   "codemirror_mode": {
    "name": "ipython",
    "version": 3
   },
   "file_extension": ".py",
   "mimetype": "text/x-python",
   "name": "python",
   "nbconvert_exporter": "python",
   "pygments_lexer": "ipython3",
   "version": "3.6.0"
  }
 },
 "nbformat": 4,
 "nbformat_minor": 2
}
