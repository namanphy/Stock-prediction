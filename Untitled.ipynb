{
 "cells": [
  {
   "cell_type": "code",
   "execution_count": 18,
   "metadata": {},
   "outputs": [],
   "source": [
    "from datetime import date\n",
    "from datetime import timedelta\n",
    "\n",
    "start=date(1998,3,23)\n",
    "end=date(2018,6,18)\n",
    "delta = timedelta(days=1)\n",
    "dates=[]\n",
    "d = start\n",
    "weekend = set([5, 6])\n",
    "while d <= end:\n",
    "    if d.weekday() not in weekend:\n",
    "        dates.append(d.strftime('%Y-%m-%d'))\n",
    "    d += delta\n",
    "#print(dates)"
   ]
  },
  {
   "cell_type": "code",
   "execution_count": 21,
   "metadata": {},
   "outputs": [],
   "source": [
    "from dateutil.rrule import DAILY, rrule, MO, TU, WE, TH, FR\n",
    "\n",
    "def daterange(start_date, end_date):\n",
    "    return rrule(DAILY, dtstart=start_date, until=end_date, byweekday=(MO,TU,WE,TH,FR))"
   ]
  },
  {
   "cell_type": "code",
   "execution_count": 26,
   "metadata": {},
   "outputs": [
    {
     "name": "stdout",
     "output_type": "stream",
     "text": [
      "DTSTART:19980323T000000\n",
      "FREQ=DAILY;UNTIL=20180618T000000;BYDAY=MO,TU,WE,TH,FR\n"
     ]
    }
   ],
   "source": [
    "a=daterange(date(1998,3,23),date(2018,6,18))\n",
    "print(a)"
   ]
  }
 ],
 "metadata": {
  "kernelspec": {
   "display_name": "Python 3",
   "language": "python",
   "name": "python3"
  },
  "language_info": {
   "codemirror_mode": {
    "name": "ipython",
    "version": 3
   },
   "file_extension": ".py",
   "mimetype": "text/x-python",
   "name": "python",
   "nbconvert_exporter": "python",
   "pygments_lexer": "ipython3",
   "version": "3.6.0"
  }
 },
 "nbformat": 4,
 "nbformat_minor": 2
}
